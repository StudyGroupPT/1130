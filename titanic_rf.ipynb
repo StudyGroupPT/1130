{
  "nbformat": 4,
  "nbformat_minor": 0,
  "metadata": {
    "colab": {
      "name": "titanic_proc.ipynb",
      "version": "0.3.2",
      "provenance": [],
      "collapsed_sections": []
    },
    "kernelspec": {
      "name": "python3",
      "display_name": "Python 3"
    }
  },
  "cells": [
    {
      "metadata": {
        "id": "2InpIelcvmsq",
        "colab_type": "code",
        "colab": {}
      },
      "cell_type": "code",
      "source": [
        "# ファイルアップロード用\n",
        "from google.colab import files\n",
        "files.upload()"
      ],
      "execution_count": 0,
      "outputs": []
    },
    {
      "metadata": {
        "id": "6fLLTTvQ1kTZ",
        "colab_type": "code",
        "colab": {}
      },
      "cell_type": "code",
      "source": [
        "# データの件数確認用\n",
        "import pandas as pd\n",
        "from pandas import DataFrame\n",
        "\n",
        "train = pd.read_csv(\"train_data.csv\", encoding=\"utf-8\")\n",
        "test = pd.read_csv(\"test_data.csv\", encoding=\"utf-8\")\n",
        "\n",
        "print(train.info())\n",
        "print(test.info())\n",
        "print(train.nunique())\n",
        "print(test.nunique())"
      ],
      "execution_count": 0,
      "outputs": []
    },
    {
      "metadata": {
        "id": "ZPDJyRBmzvnJ",
        "colab_type": "code",
        "outputId": "b7ee4a44-220f-44df-bec4-52fc32fd108c",
        "colab": {
          "base_uri": "https://localhost:8080/",
          "height": 602
        }
      },
      "cell_type": "code",
      "source": [
        "# pythonで機械学習を実行するために必要なライブラリ\n",
        "\n",
        "import pandas as pd\n",
        "import numpy as np\n",
        "import matplotlib.pyplot as plt\n",
        "\n",
        "from sklearn.ensemble import RandomForestClassifier\n",
        "from sklearn import tree\n",
        "from pandas import DataFrame\n",
        "\n",
        "# ----メイン関数----\n",
        "def main():\n",
        "    train = pd.read_csv(\"train_data.csv\", encoding=\"utf-8\")\n",
        "    test = pd.read_csv(\"test_data.csv\", encoding=\"utf-8\")\n",
        "    res = pd.read_csv(\"result_data.csv\", encoding=\"utf-8\")\n",
        "\n",
        "    # ----機械学習用にデータを調整----\n",
        "    # 機械学習の説明変数に使う列を指定する\n",
        "    # \"Survived\",\"Sex\", \"Age\",\"SibSp\",\"Parch\",\"Embarked\",\"Pclass\",\"Fare\"から指定\n",
        "    # trainデータのみ目的変数も指定しておく\n",
        "    train = train[[\"Survived\",\"Sex\", \"Age\"]]\n",
        "    test = test[[\"Sex\", \"Age\"]]\n",
        "    \n",
        "    # ----機械学習の実行----\n",
        "    # 説明変数をtrain_Xに、目的変数をtrain_yに格納する\n",
        "    train_X = train.drop(\"Survived\", axis=1)\n",
        "    train_y = train.Survived\n",
        "    \n",
        "    # ランダムフォレストで学習し、モデルを作成する\n",
        "    clf = RandomForestClassifier(random_state=0)\n",
        "    clf = clf.fit(train_X, train_y)\n",
        "    \n",
        "    # ----予測結果の評価----\n",
        "    # 作成したモデルを使用し、titanicの生存者かどうか(テストデータの目的変数)を予測する\n",
        "    # 正解データの値を取得し、比較して結果を出力する\n",
        "    my_prediction = clf.predict(test)\n",
        "    res_prediction = np.array(res[\"Survived\"]).astype(int)\n",
        "    \n",
        "    ressum = np.sum(my_prediction == res_prediction)\n",
        "    \n",
        "    print(\"説明変数 ：\",train_X.columns.values)\n",
        "    print(\"正解数 ：\",ressum,\"件\")\n",
        "    print(\"正解率 ：\",ressum / len(res_prediction) * 100,\"%\\n\")\n",
        "\n",
        "    print(\"予測値 ：\",my_prediction,\"\\n\")\n",
        "    print(\"正解値 ：\",res_prediction,\"\\n\")\n",
        "    \n",
        "    randamforest_importance(train_X,clf)\n",
        "    \n",
        "def randamforest_importance(train_X,clf): \n",
        "    features = train_X.columns\n",
        "    importances = clf.feature_importances_\n",
        "    indices = np.argsort(importances)\n",
        "\n",
        "    plt.figure(figsize=(6,6))\n",
        "    plt.barh(range(len(indices)), importances[indices], color='b', align='center')\n",
        "    plt.yticks(range(len(indices)), features[indices])\n",
        "    print(\"変数重要度\")\n",
        "    plt.show()\n",
        "    \n",
        "# 処理実行\n",
        "main()"
      ],
      "execution_count": 56,
      "outputs": [
        {
          "output_type": "stream",
          "text": [
            "説明変数 ： ['Sex' 'Age']\n",
            "正解数 ： 77 件\n",
            "正解率 ： 77.0 %\n",
            "\n",
            "予測値 ： [0 1 0 0 0 1 1 0 1 0 1 0 1 0 0 0 1 0 1 0 0 0 1 0 0 1 0 0 0 1 0 0 1 0 0 0 0\n",
            " 0 1 1 1 0 0 0 1 0 0 0 0 0 0 1 0 0 0 0 0 0 1 0 0 0 1 1 1 0 0 1 0 0 0 1 1 0\n",
            " 1 1 0 0 0 0 0 0 0 1 1 0 0 0 1 0 0 1 0 0 1 0 1 1 0 0] \n",
            "\n",
            "正解値 ： [0 0 0 0 0 1 1 0 0 0 1 1 1 1 0 0 0 0 1 0 0 0 0 0 0 0 0 0 0 1 1 0 1 0 0 0 1\n",
            " 1 1 1 1 0 0 0 1 0 0 1 1 0 0 1 0 0 0 0 0 0 1 0 0 0 1 0 1 1 1 1 0 0 0 1 0 0\n",
            " 1 1 0 0 1 0 1 0 0 1 1 0 0 0 1 1 0 0 0 0 0 0 1 0 1 0] \n",
            "\n",
            "変数重要度\n"
          ],
          "name": "stdout"
        },
        {
          "output_type": "display_data",
          "data": {
            "image/png": "[encoded data removed]",
            "text/plain": [
              "<matplotlib.figure.Figure at 0x7f6d0adba978>"
            ]
          },
          "metadata": {
            "tags": []
          }
        }
      ]
    }
  ]
}