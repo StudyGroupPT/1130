{
  "nbformat": 4,
  "nbformat_minor": 0,
  "metadata": {
    "colab": {
      "name": "titanic_proc.ipynb",
      "version": "0.3.2",
      "provenance": [],
      "collapsed_sections": []
    },
    "kernelspec": {
      "name": "python3",
      "display_name": "Python 3"
    }
  },
  "cells": [
    {
      "metadata": {
        "id": "2InpIelcvmsq",
        "colab_type": "code",
        "colab": {}
      },
      "cell_type": "code",
      "source": [
        "# ファイルアップロード用\n",
        "from google.colab import files\n",
        "files.upload()"
      ],
      "execution_count": 0,
      "outputs": []
    },
    {
      "metadata": {
        "id": "6fLLTTvQ1kTZ",
        "colab_type": "code",
        "colab": {}
      },
      "cell_type": "code",
      "source": [
        "# データの件数確認用\n",
        "import pandas as pd\n",
        "\n",
        "train = pd.read_csv(\"train_data.csv\", encoding=\"utf-8\")\n",
        "test = pd.read_csv(\"test_data.csv\", encoding=\"utf-8\")\n",
        "\n",
        "print(train.info())\n",
        "print(test.info())\n",
        "print(train.nunique())\n",
        "print(test.nunique())"
      ],
      "execution_count": 0,
      "outputs": []
    },
    {
      "metadata": {
        "id": "ZPDJyRBmzvnJ",
        "colab_type": "code",
        "colab": {}
      },
      "cell_type": "code",
      "source": [
        "# pythonで機械学習を実行するために必要なライブラリ\n",
        "import pandas as pd\n",
        "import numpy as np\n",
        "\n",
        "from sklearn.tree import DecisionTreeClassifier\n",
        "\n",
        "# ----メイン関数----\n",
        "def main():\n",
        "    train = pd.read_csv(\"train_data.csv\", encoding=\"utf-8\")\n",
        "    test = pd.read_csv(\"test_data.csv\", encoding=\"utf-8\")\n",
        "    res = pd.read_csv(\"result_data.csv\", encoding=\"utf-8\")\n",
        "\n",
        "    # ----機械学習用にデータを調整----\n",
        "    # 機械学習の説明変数に使う列を指定する\n",
        "    # \"Survived\",\"Sex\", \"Age\",\"SibSp\",\"Parch\",\"Embarked\",\"Pclass\",\"Fare\"から指定\n",
        "    # trainデータのみ目的変数も指定しておく\n",
        "    train = train[[\"Survived\",\"Sex\", \"Age\"]]\n",
        "    test = test[[\"Sex\", \"Age\"]]\n",
        "    \n",
        "    # ----機械学習の実行----\n",
        "    # 説明変数をtrain_Xに、目的変数をtrain_yに格納する\n",
        "    train_X = train.drop(\"Survived\", axis=1)\n",
        "    train_y = train.Survived\n",
        "    \n",
        "    # 決定木で学習し、モデルを作成する\n",
        "    clf = DecisionTreeClassifier(random_state=0)\n",
        "    clf = clf.fit(train_X, train_y)\n",
        "    \n",
        "    # ----予測結果の評価----\n",
        "    # 作成したモデルを使用し、titanicの生存者かどうか(テストデータの目的変数)を予測する\n",
        "    # 正解データの値を取得し、比較して結果を出力する\n",
        "    my_prediction = clf.predict(test)\n",
        "    res_prediction = np.array(res[\"Survived\"]).astype(int)\n",
        "    \n",
        "    ressum = np.sum(my_prediction == res_prediction)\n",
        "    \n",
        "    print(\"決定木での学習と予測\")\n",
        "    print(\"説明変数 ：\",train_X.columns.values)\n",
        "    print(\"正解数 ：\",ressum,\"件\")\n",
        "    print(\"正解率 ：\",ressum / len(res_prediction) * 100,\"%\\n\")\n",
        "\n",
        "    print(\"予測値 ：\",my_prediction,\"\\n\")\n",
        "    print(\"正解値 ：\",res_prediction,\"\\n\")\n",
        "    \n",
        "# 処理実行\n",
        "main()"
      ],
      "execution_count": 0,
      "outputs": []
    }
  ]
}
