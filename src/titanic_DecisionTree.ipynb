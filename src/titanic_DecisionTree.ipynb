{
  "nbformat": 4,
  "nbformat_minor": 0,
  "metadata": {
    "colab": {
      "name": "Untitled2.ipynb",
      "version": "0.3.2",
      "provenance": []
    },
    "kernelspec": {
      "name": "python3",
      "display_name": "Python 3"
    }
  },
  "cells": [
    {
      "metadata": {
        "id": "U-AgJhKcw6SW",
        "colab_type": "code",
        "colab": {}
      },
      "cell_type": "code",
      "source": [
        "# ファイルアップロード用の処理\n",
        "from google.colab import files\n",
        "import pandas as pd\n",
        "\n",
        "files.upload()\n",
        "\n",
        "train = pd.read_csv(\"train_data.csv\", encoding=\"utf-8\")\n",
        "test = pd.read_csv(\"test_data.csv\", encoding=\"utf-8\")"
      ],
      "execution_count": 0,
      "outputs": []
    },
    {
      "metadata": {
        "id": "CSbCUw2nxGhB",
        "colab_type": "code",
        "colab": {}
      },
      "cell_type": "code",
      "source": [
        "# データの件数確認用（実行しなくても問題ない）\n",
        "print(train.info())\n",
        "print(test.info())\n",
        "print(train.nunique())\n",
        "print(test.nunique())"
      ],
      "execution_count": 0,
      "outputs": []
    },
    {
      "metadata": {
        "id": "ctExABv2yMwQ",
        "colab_type": "code",
        "colab": {}
      },
      "cell_type": "code",
      "source": [
        "# pythonで機械学習を実行するために必要なライブラリのインポート\n",
        "import pandas as pd\n",
        "import numpy as np\n",
        "\n",
        "from sklearn.tree import DecisionTreeClassifier"
      ],
      "execution_count": 0,
      "outputs": []
    },
    {
      "metadata": {
        "id": "EG_fiwMjzTQ9",
        "colab_type": "code",
        "colab": {}
      },
      "cell_type": "code",
      "source": [
        "# ----機械学習用にデータを調整----\n",
        "# 機械学習の説明変数に使う列を指定する\n",
        "# \"Survived\",\"Sex\", \"Age\",\"SibSp\",\"Parch\",\"Embarked\",\"Pclass\",\"Fare\"から指定\n",
        "# trainデータのみ目的変数も指定しておく\n",
        "\n",
        "train_proc = train[[\"Survived\",\"Sex\", \"Age\"]]\n",
        "test_proc = test[[\"Sex\", \"Age\"]]"
      ],
      "execution_count": 0,
      "outputs": []
    },
    {
      "metadata": {
        "id": "02WjQ1O6zVjR",
        "colab_type": "code",
        "colab": {}
      },
      "cell_type": "code",
      "source": [
        "# ----機械学習の実行----\n",
        "# 説明変数をtrain_Xに、目的変数をtrain_yに格納する\n",
        "train_X = train_proc.drop(\"Survived\", axis=1)\n",
        "train_y = train_proc.Survived\n",
        "\n",
        "# 決定木で学習し、モデルを作成する\n",
        "clf = DecisionTreeClassifier(random_state=0)\n",
        "clf = clf.fit(train_X, train_y)"
      ],
      "execution_count": 0,
      "outputs": []
    },
    {
      "metadata": {
        "id": "sHfeOgnrzYPy",
        "colab_type": "code",
        "colab": {}
      },
      "cell_type": "code",
      "source": [
        "# ----予測結果の評価----\n",
        "# 作成したモデルを使用し、titanicの生存者かどうか(テストデータの目的変数)を予測する\n",
        "# 正解データの値を取得し、正解率を計算する\n",
        "res = pd.read_csv(\"result_data.csv\", encoding=\"utf-8\")\n",
        "my_prediction = clf.predict(test_proc)\n",
        "res_prediction = np.array(res[\"Survived\"]).astype(int)\n",
        "\n",
        "ressum = np.sum(my_prediction == res_prediction)"
      ],
      "execution_count": 0,
      "outputs": []
    },
    {
      "metadata": {
        "id": "L6Sgx0uRzab2",
        "colab_type": "code",
        "colab": {}
      },
      "cell_type": "code",
      "source": [
        "# 予測結果の正解率を出力する\n",
        "print(\"決定木での学習と予測\")\n",
        "print(\"説明変数 ：\",train_X.columns.values)\n",
        "print(\"正解数 ：\",ressum,\"件\")\n",
        "print(\"正解率 ：\",ressum / len(res_prediction) * 100,\"%\\n\")"
      ],
      "execution_count": 0,
      "outputs": []
    }
  ]
}